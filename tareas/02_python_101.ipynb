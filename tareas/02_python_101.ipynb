{
  "nbformat": 4,
  "nbformat_minor": 0,
  "metadata": {
    "colab": {
      "name": "tareas/02-python-101.ipynb",
      "provenance": [],
      "collapsed_sections": [],
      "authorship_tag": "ABX9TyP1APeUaXeKV6WsJc1/vZwz",
      "include_colab_link": true
    },
    "kernelspec": {
      "name": "python3",
      "display_name": "Python 3"
    }
  },
  "cells": [
    {
      "cell_type": "markdown",
      "metadata": {
        "id": "view-in-github",
        "colab_type": "text"
      },
      "source": [
        "<a href=\"https://colab.research.google.com/github/monicasoria/hacking-civico/blob/master/tareas/02_python_101.ipynb\" target=\"_parent\"><img src=\"https://colab.research.google.com/assets/colab-badge.svg\" alt=\"Open In Colab\"/></a>"
      ]
    },
    {
      "cell_type": "markdown",
      "metadata": {
        "id": "wzmrGT1GMGAC",
        "colab_type": "text"
      },
      "source": [
        "# **Calcula la densidad poblacional y encuentra relaciones con el gasto público 🏙️**\n",
        "\n",
        "Pasos a seguir 📚\n",
        "\n",
        "☝️ Primero:\n",
        "\n",
        " Investiga el número de habitantes que hay en tu ciudad, estado y país, así como la superficie (en km²) de los mismos.\n",
        " Escribe una función llamada densidad_poblacional que tome dos argumentos, poblacion y area_ciudad.\n",
        " Haz que la función devuelva una densidad de población calculada a partir de esos valores (investiga la fórmula).\n",
        " Prueba esta función con los 3 casos diferentes: país, tu estado y tu ciudad.\n",
        " Responde lo siguiente:\n",
        "¿Cuál es la densidad poblacional?\n",
        "¿Qué pasa comparar varios estados o ciudades?\n",
        "\n",
        "\n",
        "☝️ Segundo:\n",
        "Utiliza la información que encontraste sobre el gasto público del sector de tu interés y de acuerdo a la población correspondiente calcula el gasto per cápita del último año y uno anterior.\n",
        "\n",
        " Responde lo siguiente:\n",
        "¿En qué porcentaje aumentó o disminuyó?\n",
        "¿A qué crees que se deba?\n",
        "\n",
        "\n",
        "☝️ Tercero:\n",
        " Responde lo siguiente:\n",
        "¿Para qué crees que nos pueda ser útil esta información?\n",
        "¿Qué decisiones podría tomar el gobierno basado en ésta?\n",
        "Indicaciones ⚠️\n",
        "Haz un comentario en este Issue respondiendo a las preguntas con la información que encontraste y los resultados que obtuviste. Utiliza Markdown para darle formato a tu respuesta. Adicionalmente, desde tu fork, dentro de la carpeta de tareas tienes 2 opciones:\n",
        "\n",
        "Crear un archivo Markdown con la explicación y el código de cómo lo hiciste, llámalo 02-python-101.md. (utiliza el formato de bloque de código, no es necesario subir ningún script o archivo de Python).\n",
        "Crea un Notebook en Google Colab y guarda una copia en tu fork de GitHub de la siguiente manera tareas/02-python-101.ipynb.\n"
      ]
    },
    {
      "cell_type": "code",
      "metadata": {
        "id": "dBqX1v9uMVtn",
        "colab_type": "code",
        "colab": {}
      },
      "source": [
        "#PRIMERO : CALCULAR DENSIDAD POBLACIONAL \n",
        "\n",
        "\n",
        "# Datos obtenidos de INEGI (Censo 2015)\n",
        "habitantes_mexico = 119938473\n",
        "habitantes_slp_estado = 2723772\n",
        "habitantes_slp_municipio = 824229\n",
        "\n",
        "km2_pais = 5120679\n",
        "km2_estado = 61138\n",
        "km2_municipio = 1369.38\n",
        "\n",
        "\n",
        "# Función de densidad poblacional \n",
        "def densidad_poblacional (poblacion,area_km2):\n",
        "    print(poblacion/area_km2)\n",
        "  "
      ],
      "execution_count": 2,
      "outputs": []
    },
    {
      "cell_type": "code",
      "metadata": {
        "id": "-v-kYgOMZ0i_",
        "colab_type": "code",
        "colab": {
          "base_uri": "https://localhost:8080/",
          "height": 50
        },
        "outputId": "d291640d-a0e3-491d-c26f-a7237c674a03"
      },
      "source": [
        "#Pais \n",
        "print(\"La densidad poblacional de México es : \")\n",
        "densidad_poblacional(habitantes_mexico,km2_pais)                     "
      ],
      "execution_count": 3,
      "outputs": [
        {
          "output_type": "stream",
          "text": [
            "La densidad poblacional de México es : \n",
            "23.422376798076975\n"
          ],
          "name": "stdout"
        }
      ]
    },
    {
      "cell_type": "code",
      "metadata": {
        "id": "_X4EuN3cZ40b",
        "colab_type": "code",
        "colab": {
          "base_uri": "https://localhost:8080/",
          "height": 50
        },
        "outputId": "dbe320b9-a16c-4cc7-e16f-9455cf419b87"
      },
      "source": [
        "# Estado\n",
        "print(\"La densidad poblacional del estado de San Luis Potosi es : \")\n",
        "densidad_poblacional(habitantes_slp_estado, km2_estado)"
      ],
      "execution_count": 4,
      "outputs": [
        {
          "output_type": "stream",
          "text": [
            "La densidad poblacional del estado de San Luis Potosi es : \n",
            "44.55121201216919\n"
          ],
          "name": "stdout"
        }
      ]
    },
    {
      "cell_type": "code",
      "metadata": {
        "id": "8hpE7kZYZ6OP",
        "colab_type": "code",
        "colab": {
          "base_uri": "https://localhost:8080/",
          "height": 50
        },
        "outputId": "b98ef8b9-afe2-4edd-f214-6f67190e7da7"
      },
      "source": [
        "#Municipio \n",
        "print(\"La densidad poblacional del municipio de San Luis Potosí es : \")\n",
        "densidad_poblacional(habitantes_slp_municipio, km2_municipio)\n"
      ],
      "execution_count": 5,
      "outputs": [
        {
          "output_type": "stream",
          "text": [
            "La densidad poblacional del municipio de San Luis Potosí es : \n",
            "601.8993997283442\n"
          ],
          "name": "stdout"
        }
      ]
    },
    {
      "cell_type": "markdown",
      "metadata": {
        "id": "Q2vC8FCYfhXP",
        "colab_type": "text"
      },
      "source": [
        "## SEGUNDO \n",
        "**H. Ayuntamiento de San Luis Potosí**\n",
        "\n",
        "Gasto por categoría programática : \n",
        "> *\"Apoyo a la función pública y al mejoramiento de la gestión\"*\n",
        "\n",
        "Del 1 de Enero al 31 de Julio de 2019 y 2020 respectivamente\n",
        "\n",
        "\n",
        "(Cifras en pesos)\n",
        "\n",
        "\n",
        "\n",
        "Fuente: \n",
        "\n",
        "https://sanluis.gob.mx/accesoinfo/contabilidad-gubernamental/reportedetransparencia/"
      ]
    },
    {
      "cell_type": "code",
      "metadata": {
        "id": "BDMUCJFZnbUf",
        "colab_type": "code",
        "colab": {}
      },
      "source": [
        "# GASTO 2020\n",
        "gasto_2020_aprobado = 18792879\n",
        "gasto_2020_ampliaciones =960424\n",
        "gasto_2020_modificado = gasto_2020_aprobado + gasto_2020_ampliaciones\n",
        "gasto_2020_devengado = 9352728\n",
        "gasto_2020_subejercicio = gasto_2020_modificado - gasto_2020_devengado \n",
        "\n",
        "# GASTO 2019\n",
        "gasto_2019_aprobado = 13001119\n",
        "gasto_2019_ampliaciones = 204810\n",
        "gasto_2019_modificado = gasto_2019_aprobado + gasto_2019_ampliaciones\n",
        "gasto_2019_devengado = 8266127\n",
        "gasto_2019_subejercicio = gasto_2019_modificado - gasto_2019_devengado \n",
        "\n",
        "# Función de gasto per capita \n",
        "def gasto_percapita (gasto_aprobado,habitantes_slp_municipio):\n",
        "    print(gasto_aprobado/habitantes_slp_municipio)\n"
      ],
      "execution_count": 9,
      "outputs": []
    },
    {
      "cell_type": "code",
      "metadata": {
        "id": "IF9xQl3HdETc",
        "colab_type": "code",
        "colab": {
          "base_uri": "https://localhost:8080/",
          "height": 50
        },
        "outputId": "4f20916a-22e9-4abd-a4f3-f75a7a2bffbe"
      },
      "source": [
        "# Gasto per capita 2020\n",
        "print(\"El gasto per capita 2020 aprobado en apoyo a la función pública y al mejoramiento de la gestión fue de : \")\n",
        "gasto_percapita(gasto_2020_aprobado, habitantes_slp_municipio)\n"
      ],
      "execution_count": 10,
      "outputs": [
        {
          "output_type": "stream",
          "text": [
            "El gasto per capita aprobado en apoyo a la función pública y al mejoramiento de la gestión fue : \n",
            "22.800555428163776\n"
          ],
          "name": "stdout"
        }
      ]
    },
    {
      "cell_type": "code",
      "metadata": {
        "id": "HcqZmjbod8vy",
        "colab_type": "code",
        "colab": {
          "base_uri": "https://localhost:8080/",
          "height": 50
        },
        "outputId": "e5538379-993f-4699-cfb2-ea27d206fee4"
      },
      "source": [
        "# Gasto per capita 2020 \n",
        "print(\"El gasto per capita 2019 aprobado en apoyo a la función pública y al mejoramiento de la gestión fue de : \")\n",
        "gasto_percapita(gasto_2019_aprobado, habitantes_slp_municipio)\n"
      ],
      "execution_count": 12,
      "outputs": [
        {
          "output_type": "stream",
          "text": [
            "El gasto per capita 2019 aprobado en apoyo a la función pública y al mejoramiento de la gestión fue de : \n",
            "15.773673335929699\n"
          ],
          "name": "stdout"
        }
      ]
    },
    {
      "cell_type": "code",
      "metadata": {
        "id": "Z3EyTPjteF9Y",
        "colab_type": "code",
        "colab": {
          "base_uri": "https://localhost:8080/",
          "height": 33
        },
        "outputId": "a5f05507-8442-47e7-85b6-b9f947628fae"
      },
      "source": [
        "# Variación 2020 vs 2019 \n",
        "\n",
        "variación_porcentual = ((gasto_2020_aprobado / gasto_2019_aprobado) - 1) *100\n",
        "print(variación_porcentual)"
      ],
      "execution_count": 17,
      "outputs": [
        {
          "output_type": "stream",
          "text": [
            "44.548165430990984\n"
          ],
          "name": "stdout"
        }
      ]
    }
  ]
}